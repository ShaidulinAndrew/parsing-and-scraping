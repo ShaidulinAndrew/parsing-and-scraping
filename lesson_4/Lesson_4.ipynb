{
 "cells": [
  {
   "cell_type": "markdown",
   "id": "f27142d8",
   "metadata": {},
   "source": [
    "### Урок 4\n",
    "\n"
   ]
  },
  {
   "cell_type": "code",
   "execution_count": 1,
   "id": "048f75bd",
   "metadata": {},
   "outputs": [],
   "source": [
    "from pprint import pprint\n",
    "from bs4 import BeautifulSoup as bs\n",
    "import requests\n",
    "from time import sleep"
   ]
  },
  {
   "cell_type": "markdown",
   "id": "dcb1e525",
   "metadata": {},
   "source": [
    "__Установим MongoDb__\n"
   ]
  },
  {
   "cell_type": "code",
   "execution_count": 2,
   "id": "f5dc6758",
   "metadata": {},
   "outputs": [
    {
     "name": "stdout",
     "output_type": "stream",
     "text": [
      "Requirement already satisfied: pymongo in d:\\anaconda3\\lib\\site-packages (4.3.3)\n",
      "Requirement already satisfied: dnspython<3.0.0,>=1.16.0 in d:\\anaconda3\\lib\\site-packages (from pymongo) (2.3.0)\n"
     ]
    }
   ],
   "source": [
    "!pip install pymongo"
   ]
  },
  {
   "cell_type": "code",
   "execution_count": 3,
   "id": "1af8c1c9",
   "metadata": {},
   "outputs": [],
   "source": [
    "import pymongo\n",
    "from pymongo import MongoClient"
   ]
  },
  {
   "cell_type": "markdown",
   "id": "0a18bc7b",
   "metadata": {},
   "source": [
    "__Спарсим данные__"
   ]
  },
  {
   "cell_type": "code",
   "execution_count": 4,
   "id": "94d382cf",
   "metadata": {},
   "outputs": [],
   "source": [
    "USER_AGENT = 'Mozilla/5.0 (Windows NT 10.0; Win64; x64) AppleWebKit/537.36 (KHTML, like Gecko) Chrome/104.0.0.0 Safari/537.36'\n",
    "\n",
    "URL_FIRST_PAGE_HH = 'https://vladivostok.hh.ru/search/vacancy?text=python&salary=&area=22&ored_clusters=true'"
   ]
  },
  {
   "cell_type": "code",
   "execution_count": 5,
   "id": "4a3cd17e",
   "metadata": {},
   "outputs": [],
   "source": [
    "headers = {'User-Agent': USER_AGENT,}"
   ]
  },
  {
   "cell_type": "code",
   "execution_count": 10,
   "id": "60b74b0e",
   "metadata": {},
   "outputs": [],
   "source": [
    "def parse_hh(url_page, headers, result=[], index_page=1):\n",
    "    response = requests.get(url_page, headers=headers)\n",
    "    if response.status_code != 200:\n",
    "        print('Парсинг завершен')\n",
    "        return result\n",
    "    else:\n",
    "        print('Cтраница №%d, ссылка: %s'%(index_page, response.url))\n",
    "\n",
    "    dom = bs(response.content, 'html.parser')\n",
    "    vacancies = dom.find_all('div', {'class': 'vacancy-serp-item__layout'})\n",
    "    for vacancy in vacancies:\n",
    "        result.append(parse_vacancy_hh(vacancy))\n",
    "\n",
    "    link_next_page = dom.find('a', {'data-qa': 'pager-next'})\n",
    "    if link_next_page:\n",
    "        link_next_page =  'https://vladivostok.hh.ru' + link_next_page['href']\n",
    "    else:\n",
    "        print('Парсинг завершен')\n",
    "        return result\n",
    "\n",
    "    result = parse_hh(link_next_page, headers, result, index_page+1)   \n",
    "    return result\n",
    "     \n",
    "def parse_vacancy_hh(dom_vacancy):\n",
    "    sleep(0.1)\n",
    "    vacancy_name = dom_vacancy.find('a').text\n",
    "\n",
    "    vacancy_salary = dom_vacancy.find('span', {'class', 'bloko-header-section-3'})\n",
    "    if vacancy_salary:\n",
    "        vacancy_salary = vacancy_salary.text\n",
    "        min_salary, max_salary, currency_salary = clean_salary(vacancy_salary)\n",
    "    else:\n",
    "        min_salary, max_salary, currency_salary = None, None, None\n",
    "\n",
    "    vacancy_link = dom_vacancy.find('a')['href']\n",
    "  \n",
    "    return {\n",
    "      'vacancy_name': vacancy_name,\n",
    "      'vacancy_salary': vacancy_salary,\n",
    "      'min_salary': min_salary,\n",
    "      'max_salary': max_salary,\n",
    "      'currency_salary': currency_salary,\n",
    "      'vacancy_link': vacancy_link,\n",
    "      'vacancy_source': 'hh.ru',\n",
    "  }\n",
    "\n",
    "def clean_salary(vacancy_salary_text, min_salary=None, max_salary=None, currency_salary=None):\n",
    "    list_salary = vacancy_salary_text.replace('\\u202f', '').split()\n",
    "    for i in range(len(list_salary) - 1):\n",
    "        if list_salary[i] == 'от':\n",
    "            min_salary = int(list_salary[i + 1])\n",
    "        elif list_salary[i] == 'до':\n",
    "            max_salary = int(list_salary[i + 1])\n",
    "        elif list_salary[i] == '–':\n",
    "            min_salary = int(list_salary[i - 1])\n",
    "            max_salary = int(list_salary[i + 1])\n",
    "        currency_salary = list_salary[-1]\n",
    "\n",
    "    return min_salary, max_salary, currency_salary"
   ]
  },
  {
   "cell_type": "code",
   "execution_count": 11,
   "id": "dc97422c",
   "metadata": {},
   "outputs": [
    {
     "name": "stdout",
     "output_type": "stream",
     "text": [
      "Cтраница №1, ссылка: https://vladivostok.hh.ru/search/vacancy?text=python&salary=&area=22&ored_clusters=true\n",
      "Cтраница №2, ссылка: https://vladivostok.hh.ru/search/vacancy?text=python&salary=&area=22&ored_clusters=true&page=1&hhtmFrom=vacancy_search_list\n",
      "Парсинг завершен\n"
     ]
    }
   ],
   "source": [
    "result = parse_hh(URL_FIRST_PAGE_HH, headers)"
   ]
  },
  {
   "cell_type": "markdown",
   "id": "5a2ffd17",
   "metadata": {},
   "source": [
    "__Запишем данные в базу__\n"
   ]
  },
  {
   "cell_type": "code",
   "execution_count": 12,
   "id": "f5adfdea",
   "metadata": {},
   "outputs": [],
   "source": [
    "client = MongoClient()"
   ]
  },
  {
   "cell_type": "code",
   "execution_count": 13,
   "id": "0a38c8aa",
   "metadata": {},
   "outputs": [],
   "source": [
    "db = client.vacancies_python_hh"
   ]
  },
  {
   "cell_type": "code",
   "execution_count": 14,
   "id": "e76b740b",
   "metadata": {},
   "outputs": [],
   "source": [
    "collection_vacancies_hh_ru = db.hh_ru"
   ]
  },
  {
   "cell_type": "code",
   "execution_count": 16,
   "id": "0dabfe57",
   "metadata": {},
   "outputs": [],
   "source": [
    "def cheak_and_save_vacancies_in_db(vacancies):\n",
    "    for vacancy in vacancies:\n",
    "        if not len(list(collection_vacancies_hh_ru.find({'vacancy_link': vacancy['vacancy_link']}))):\n",
    "            collection_vacancies_hh_ru.insert_one(vacancy)"
   ]
  },
  {
   "cell_type": "code",
   "execution_count": 17,
   "id": "a92d491a",
   "metadata": {},
   "outputs": [],
   "source": [
    "cheak_and_save_vacancies_in_db(result)"
   ]
  },
  {
   "cell_type": "code",
   "execution_count": 18,
   "id": "9c96bee0",
   "metadata": {},
   "outputs": [],
   "source": [
    "result_find = list(collection_vacancies_hh_ru.find())"
   ]
  },
  {
   "cell_type": "code",
   "execution_count": 19,
   "id": "49bb85e9",
   "metadata": {},
   "outputs": [
    {
     "data": {
      "text/plain": [
       "24"
      ]
     },
     "execution_count": 19,
     "metadata": {},
     "output_type": "execute_result"
    }
   ],
   "source": [
    "len(result_find)"
   ]
  },
  {
   "cell_type": "code",
   "execution_count": 20,
   "id": "ec9b8eeb",
   "metadata": {},
   "outputs": [
    {
     "data": {
      "text/plain": [
       "[{'_id': ObjectId('6404f7c55429eaf88a5d5502'),\n",
       "  'vacancy_name': 'Аналитик данных (Junior)',\n",
       "  'vacancy_salary': 'от 70\\u202f000 руб.',\n",
       "  'min_salary': 70000,\n",
       "  'max_salary': None,\n",
       "  'currency_salary': 'руб.',\n",
       "  'vacancy_link': 'https://vladivostok.hh.ru/vacancy/76991488?from=vacancy_search_list&query=python',\n",
       "  'vacancy_source': 'hh.ru'},\n",
       " {'_id': ObjectId('6404f7c55429eaf88a5d5503'),\n",
       "  'vacancy_name': 'Разработчик Python и SQL',\n",
       "  'vacancy_salary': 'от 60\\u202f000 руб.',\n",
       "  'min_salary': 60000,\n",
       "  'max_salary': None,\n",
       "  'currency_salary': 'руб.',\n",
       "  'vacancy_link': 'https://vladivostok.hh.ru/vacancy/76425036?from=vacancy_search_list&query=python',\n",
       "  'vacancy_source': 'hh.ru'},\n",
       " {'_id': ObjectId('6404f7c55429eaf88a5d5504'),\n",
       "  'vacancy_name': 'Программист',\n",
       "  'vacancy_salary': 'от 80\\u202f000 руб.',\n",
       "  'min_salary': 80000,\n",
       "  'max_salary': None,\n",
       "  'currency_salary': 'руб.',\n",
       "  'vacancy_link': 'https://vladivostok.hh.ru/vacancy/74072093?from=vacancy_search_list&query=python',\n",
       "  'vacancy_source': 'hh.ru'},\n",
       " {'_id': ObjectId('6404f7c55429eaf88a5d5505'),\n",
       "  'vacancy_name': 'Разработчик Python',\n",
       "  'vacancy_salary': None,\n",
       "  'min_salary': None,\n",
       "  'max_salary': None,\n",
       "  'currency_salary': None,\n",
       "  'vacancy_link': 'https://vladivostok.hh.ru/vacancy/76374632?from=vacancy_search_list&query=python',\n",
       "  'vacancy_source': 'hh.ru'},\n",
       " {'_id': ObjectId('6404f7c55429eaf88a5d5506'),\n",
       "  'vacancy_name': 'Data Engineer (Middle)',\n",
       "  'vacancy_salary': 'от 100\\u202f000 руб.',\n",
       "  'min_salary': 100000,\n",
       "  'max_salary': None,\n",
       "  'currency_salary': 'руб.',\n",
       "  'vacancy_link': 'https://vladivostok.hh.ru/vacancy/73363987?from=vacancy_search_list&query=python',\n",
       "  'vacancy_source': 'hh.ru'},\n",
       " {'_id': ObjectId('6404f7c55429eaf88a5d5507'),\n",
       "  'vacancy_name': 'Аналитик данных (Middle)',\n",
       "  'vacancy_salary': 'от 90\\u202f000 руб.',\n",
       "  'min_salary': 90000,\n",
       "  'max_salary': None,\n",
       "  'currency_salary': 'руб.',\n",
       "  'vacancy_link': 'https://vladivostok.hh.ru/vacancy/73364394?from=vacancy_search_list&query=python',\n",
       "  'vacancy_source': 'hh.ru'},\n",
       " {'_id': ObjectId('6404f7c55429eaf88a5d5508'),\n",
       "  'vacancy_name': 'Аналитик данных / Data Scientist (Middle)',\n",
       "  'vacancy_salary': '140\\u202f000 – 200\\u202f000 руб.',\n",
       "  'min_salary': 140000,\n",
       "  'max_salary': 200000,\n",
       "  'currency_salary': 'руб.',\n",
       "  'vacancy_link': 'https://vladivostok.hh.ru/vacancy/69947221?from=vacancy_search_list&query=python',\n",
       "  'vacancy_source': 'hh.ru'},\n",
       " {'_id': ObjectId('6404f7c55429eaf88a5d5509'),\n",
       "  'vacancy_name': 'Senior QA automation (Python)',\n",
       "  'vacancy_salary': None,\n",
       "  'min_salary': None,\n",
       "  'max_salary': None,\n",
       "  'currency_salary': None,\n",
       "  'vacancy_link': 'https://vladivostok.hh.ru/vacancy/76977006?from=vacancy_search_list&query=python',\n",
       "  'vacancy_source': 'hh.ru'},\n",
       " {'_id': ObjectId('6404f7c55429eaf88a5d550a'),\n",
       "  'vacancy_name': 'Lead data scientist',\n",
       "  'vacancy_salary': '300\\u202f000 – 350\\u202f000 руб.',\n",
       "  'min_salary': 300000,\n",
       "  'max_salary': 350000,\n",
       "  'currency_salary': 'руб.',\n",
       "  'vacancy_link': 'https://vladivostok.hh.ru/vacancy/76815798?from=vacancy_search_list&query=python',\n",
       "  'vacancy_source': 'hh.ru'},\n",
       " {'_id': ObjectId('6404f7c55429eaf88a5d550b'),\n",
       "  'vacancy_name': 'Аналитик данных',\n",
       "  'vacancy_salary': 'от 150\\u202f000 руб.',\n",
       "  'min_salary': 150000,\n",
       "  'max_salary': None,\n",
       "  'currency_salary': 'руб.',\n",
       "  'vacancy_link': 'https://vladivostok.hh.ru/vacancy/77514699?from=vacancy_search_list&query=python',\n",
       "  'vacancy_source': 'hh.ru'},\n",
       " {'_id': ObjectId('6404f7c55429eaf88a5d550c'),\n",
       "  'vacancy_name': 'Senior Data Engineer',\n",
       "  'vacancy_salary': '250\\u202f000 – 300\\u202f000 руб.',\n",
       "  'min_salary': 250000,\n",
       "  'max_salary': 300000,\n",
       "  'currency_salary': 'руб.',\n",
       "  'vacancy_link': 'https://vladivostok.hh.ru/vacancy/73453184?from=vacancy_search_list&query=python',\n",
       "  'vacancy_source': 'hh.ru'},\n",
       " {'_id': ObjectId('6404f7c55429eaf88a5d550d'),\n",
       "  'vacancy_name': 'Аналитик данных',\n",
       "  'vacancy_salary': '65\\u202f000 – 110\\u202f000 руб.',\n",
       "  'min_salary': 65000,\n",
       "  'max_salary': 110000,\n",
       "  'currency_salary': 'руб.',\n",
       "  'vacancy_link': 'https://vladivostok.hh.ru/vacancy/76893301?from=vacancy_search_list&query=python',\n",
       "  'vacancy_source': 'hh.ru'},\n",
       " {'_id': ObjectId('6404f7c55429eaf88a5d550e'),\n",
       "  'vacancy_name': 'Бизнес Аналитик данных (П)',\n",
       "  'vacancy_salary': '60\\u202f000 – 100\\u202f000 руб.',\n",
       "  'min_salary': 60000,\n",
       "  'max_salary': 100000,\n",
       "  'currency_salary': 'руб.',\n",
       "  'vacancy_link': 'https://vladivostok.hh.ru/vacancy/74397326?from=vacancy_search_list&query=python',\n",
       "  'vacancy_source': 'hh.ru'},\n",
       " {'_id': ObjectId('6404f7c55429eaf88a5d550f'),\n",
       "  'vacancy_name': 'Системный администратор Linux ( Middle, Senior )',\n",
       "  'vacancy_salary': None,\n",
       "  'min_salary': None,\n",
       "  'max_salary': None,\n",
       "  'currency_salary': None,\n",
       "  'vacancy_link': 'https://vladivostok.hh.ru/vacancy/76782811?from=vacancy_search_list&query=python',\n",
       "  'vacancy_source': 'hh.ru'},\n",
       " {'_id': ObjectId('6404f7c55429eaf88a5d5510'),\n",
       "  'vacancy_name': 'Системный администратор NOC центра',\n",
       "  'vacancy_salary': '80\\u202f000 – 160\\u202f000 руб.',\n",
       "  'min_salary': 80000,\n",
       "  'max_salary': 160000,\n",
       "  'currency_salary': 'руб.',\n",
       "  'vacancy_link': 'https://vladivostok.hh.ru/vacancy/69632482?from=vacancy_search_list&query=python',\n",
       "  'vacancy_source': 'hh.ru'},\n",
       " {'_id': ObjectId('6404f7c55429eaf88a5d5511'),\n",
       "  'vacancy_name': 'Главный специалист по развертыванию ПО (DevOps)',\n",
       "  'vacancy_salary': 'от 87\\u202f000 руб.',\n",
       "  'min_salary': 87000,\n",
       "  'max_salary': None,\n",
       "  'currency_salary': 'руб.',\n",
       "  'vacancy_link': 'https://vladivostok.hh.ru/vacancy/75482312?from=vacancy_search_list&query=python',\n",
       "  'vacancy_source': 'hh.ru'},\n",
       " {'_id': ObjectId('6404f7c55429eaf88a5d5512'),\n",
       "  'vacancy_name': 'Специалист службы поддержки с техническими знаниями (TOOLS)',\n",
       "  'vacancy_salary': '15\\u202f000 – 39\\u202f000 руб.',\n",
       "  'min_salary': 15000,\n",
       "  'max_salary': 39000,\n",
       "  'currency_salary': 'руб.',\n",
       "  'vacancy_link': 'https://vladivostok.hh.ru/vacancy/73595129?from=vacancy_search_list&query=python',\n",
       "  'vacancy_source': 'hh.ru'},\n",
       " {'_id': ObjectId('6404f7c55429eaf88a5d5513'),\n",
       "  'vacancy_name': 'Аналитик данных в г. Владивосток',\n",
       "  'vacancy_salary': '55\\u202f000 – 80\\u202f000 руб.',\n",
       "  'min_salary': 55000,\n",
       "  'max_salary': 80000,\n",
       "  'currency_salary': 'руб.',\n",
       "  'vacancy_link': 'https://vladivostok.hh.ru/vacancy/75810733?from=vacancy_search_list&query=python',\n",
       "  'vacancy_source': 'hh.ru'},\n",
       " {'_id': ObjectId('6404f7c55429eaf88a5d5514'),\n",
       "  'vacancy_name': 'Аналитик BI / Владелец системы отчетности',\n",
       "  'vacancy_salary': '55\\u202f000 – 110\\u202f000 руб.',\n",
       "  'min_salary': 55000,\n",
       "  'max_salary': 110000,\n",
       "  'currency_salary': 'руб.',\n",
       "  'vacancy_link': 'https://vladivostok.hh.ru/vacancy/69741546?from=vacancy_search_list&query=python',\n",
       "  'vacancy_source': 'hh.ru'},\n",
       " {'_id': ObjectId('6404f7c55429eaf88a5d5515'),\n",
       "  'vacancy_name': 'Ведущий сетевой инженер в ЦОД (не удалёнка)',\n",
       "  'vacancy_salary': '100\\u202f000 – 170\\u202f000 руб.',\n",
       "  'min_salary': 100000,\n",
       "  'max_salary': 170000,\n",
       "  'currency_salary': 'руб.',\n",
       "  'vacancy_link': 'https://vladivostok.hh.ru/vacancy/77770373?from=vacancy_search_list&query=python',\n",
       "  'vacancy_source': 'hh.ru'},\n",
       " {'_id': ObjectId('6404f7c55429eaf88a5d5516'),\n",
       "  'vacancy_name': 'Программист по обеспечению качества ПО',\n",
       "  'vacancy_salary': '45\\u202f000 – 90\\u202f000 руб.',\n",
       "  'min_salary': 45000,\n",
       "  'max_salary': 90000,\n",
       "  'currency_salary': 'руб.',\n",
       "  'vacancy_link': 'https://vladivostok.hh.ru/vacancy/76990947?from=vacancy_search_list&query=python',\n",
       "  'vacancy_source': 'hh.ru'},\n",
       " {'_id': ObjectId('6404f7c55429eaf88a5d5517'),\n",
       "  'vacancy_name': 'Программист (Фулл стэк разработчик)',\n",
       "  'vacancy_salary': '40\\u202f000 – 120\\u202f000 руб.',\n",
       "  'min_salary': 40000,\n",
       "  'max_salary': 120000,\n",
       "  'currency_salary': 'руб.',\n",
       "  'vacancy_link': 'https://vladivostok.hh.ru/vacancy/74168661?from=vacancy_search_list&query=python',\n",
       "  'vacancy_source': 'hh.ru'},\n",
       " {'_id': ObjectId('6404f7c55429eaf88a5d5518'),\n",
       "  'vacancy_name': 'Web-разработчик',\n",
       "  'vacancy_salary': 'от 150\\u202f000 руб.',\n",
       "  'min_salary': 150000,\n",
       "  'max_salary': None,\n",
       "  'currency_salary': 'руб.',\n",
       "  'vacancy_link': 'https://vladivostok.hh.ru/vacancy/76793570?from=vacancy_search_list&query=python',\n",
       "  'vacancy_source': 'hh.ru'},\n",
       " {'_id': ObjectId('6404f7c55429eaf88a5d5519'),\n",
       "  'vacancy_name': 'Начальник управления по финансовому сопровождению',\n",
       "  'vacancy_salary': None,\n",
       "  'min_salary': None,\n",
       "  'max_salary': None,\n",
       "  'currency_salary': None,\n",
       "  'vacancy_link': 'https://vladivostok.hh.ru/vacancy/71880463?from=vacancy_search_list&query=python',\n",
       "  'vacancy_source': 'hh.ru'}]"
      ]
     },
     "execution_count": 20,
     "metadata": {},
     "output_type": "execute_result"
    }
   ],
   "source": [
    "result_find"
   ]
  },
  {
   "cell_type": "code",
   "execution_count": null,
   "id": "cf9d3575",
   "metadata": {},
   "outputs": [],
   "source": []
  }
 ],
 "metadata": {
  "kernelspec": {
   "display_name": "Python 3 (ipykernel)",
   "language": "python",
   "name": "python3"
  },
  "language_info": {
   "codemirror_mode": {
    "name": "ipython",
    "version": 3
   },
   "file_extension": ".py",
   "mimetype": "text/x-python",
   "name": "python",
   "nbconvert_exporter": "python",
   "pygments_lexer": "ipython3",
   "version": "3.9.13"
  }
 },
 "nbformat": 4,
 "nbformat_minor": 5
}
