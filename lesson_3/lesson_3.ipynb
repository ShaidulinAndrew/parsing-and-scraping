{
 "cells": [
  {
   "cell_type": "markdown",
   "id": "a061ec54",
   "metadata": {},
   "source": [
    "## Практическая работа 3\n",
    "\n",
    "Необходимо собрать информацию о вакансиях на вводимую должность (используем input или через аргументы получаем должность) с сайтов HH(обязательно) и/или Superjob(по желанию). Приложение должно анализировать несколько страниц сайта (также вводим через input или аргументы). Получившийся список должен содержать в себе минимум:\n",
    "Наименование вакансии.\n",
    "Предлагаемую зарплату (разносим в три поля: минимальная и максимальная и валюта. цифры преобразуем к цифрам).\n",
    "Ссылку на саму вакансию.\n",
    "Сайт, откуда собрана вакансия."
   ]
  },
  {
   "cell_type": "code",
   "execution_count": 3,
   "id": "efe43873",
   "metadata": {},
   "outputs": [],
   "source": [
    "from bs4 import BeautifulSoup as bs\n",
    "import requests"
   ]
  },
  {
   "cell_type": "code",
   "execution_count": 4,
   "id": "b6936fd1",
   "metadata": {},
   "outputs": [],
   "source": [
    "url = 'https://vladivostok.hh.ru/search/vacancy?text=python&salary=&area=22&ored_clusters=true'\n",
    "\n",
    "params = {\n",
    "    'area': 1511,\n",
    "    'text': 'python',\n",
    "    'items_on_page': 20,\n",
    "}\n",
    "\n",
    "headers = {\n",
    "    'User-Agent': 'Mozilla/5.0 (Windows NT 10.0; Win64; x64) AppleWebKit/537.36 (KHTML, like Gecko) Chrome/105.0.0.0 Safari/537.36',\n",
    "}"
   ]
  },
  {
   "cell_type": "code",
   "execution_count": 5,
   "id": "89461f48",
   "metadata": {},
   "outputs": [
    {
     "data": {
      "text/plain": [
       "200"
      ]
     },
     "execution_count": 5,
     "metadata": {},
     "output_type": "execute_result"
    }
   ],
   "source": [
    "response = requests.get(url=url, params=params, headers=headers)\n",
    "response.status_code"
   ]
  },
  {
   "cell_type": "code",
   "execution_count": 6,
   "id": "c3911564",
   "metadata": {},
   "outputs": [],
   "source": [
    "soup = bs(response.text, 'html.parser')"
   ]
  },
  {
   "cell_type": "code",
   "execution_count": 7,
   "id": "4cc3562f",
   "metadata": {},
   "outputs": [],
   "source": [
    "vacancies = soup.find_all('div', {'class': 'serp-item'})"
   ]
  },
  {
   "cell_type": "code",
   "execution_count": 8,
   "id": "1c9f0175",
   "metadata": {},
   "outputs": [],
   "source": [
    "vacancies_list = []\n",
    "\n",
    "for vacancy in vacancies:\n",
    "  vacancy_name = vacancy.find('a', {'class': 'serp-item__title'}).getText()\n",
    "  vacancy_link = vacancy.find('a', {'class': 'serp-item__title'})['href']\n",
    "  vacancy_salary = vacancy.find('span', {'data-qa': 'vacancy-serp__vacancy-compensation'})\n",
    "  if vacancy_salary is not None:\n",
    "    vacancy_salary = vacancy_salary.getText()\n",
    "\n",
    "  vacancy_dict = {\n",
    "      'name': vacancy_name,\n",
    "      'link': vacancy_link,\n",
    "      'salary': vacancy_salary,\n",
    "  }\n",
    "\n",
    "  vacancies_list.append(vacancy_dict)"
   ]
  },
  {
   "cell_type": "code",
   "execution_count": 9,
   "id": "ca0c6119",
   "metadata": {},
   "outputs": [
    {
     "data": {
      "text/plain": [
       "[{'name': 'Программист Python (Junior)',\n",
       "  'link': 'https://vladivostok.hh.ru/vacancy/76771861?from=vacancy_search_list&query=python',\n",
       "  'salary': 'от 30\\u202f000 руб.'},\n",
       " {'name': 'Junior Devops / Linux администратор',\n",
       "  'link': 'https://vladivostok.hh.ru/vacancy/77709561?from=vacancy_search_list&query=python',\n",
       "  'salary': '60\\u202f000 – 110\\u202f000 руб.'},\n",
       " {'name': 'Программист python, sql',\n",
       "  'link': 'https://vladivostok.hh.ru/vacancy/73405415?from=vacancy_search_list&query=python',\n",
       "  'salary': 'до 138\\u202f000 руб.'},\n",
       " {'name': 'Python-разработчик',\n",
       "  'link': 'https://vladivostok.hh.ru/vacancy/77440774?from=vacancy_search_list&query=python',\n",
       "  'salary': None},\n",
       " {'name': 'Аналитик данных (Junior)',\n",
       "  'link': 'https://vladivostok.hh.ru/vacancy/76991488?from=vacancy_search_list&query=python',\n",
       "  'salary': 'от 70\\u202f000 руб.'},\n",
       " {'name': 'Middle backend разработчик, python (Django, GraphQL)',\n",
       "  'link': 'https://vladivostok.hh.ru/vacancy/77760338?from=vacancy_search_list&query=python',\n",
       "  'salary': '35\\u202f000 – 70\\u202f000 руб.'},\n",
       " {'name': 'Программист Python (Django, DRF) + React',\n",
       "  'link': 'https://vladivostok.hh.ru/vacancy/77452578?from=vacancy_search_list&query=python',\n",
       "  'salary': 'до 80\\u202f000 руб.'},\n",
       " {'name': 'Программист Python (Middle)',\n",
       "  'link': 'https://vladivostok.hh.ru/vacancy/77607628?from=vacancy_search_list&query=python',\n",
       "  'salary': None},\n",
       " {'name': 'Разработчик Python и SQL',\n",
       "  'link': 'https://vladivostok.hh.ru/vacancy/76425036?from=vacancy_search_list&query=python',\n",
       "  'salary': 'от 60\\u202f000 руб.'},\n",
       " {'name': 'Программист',\n",
       "  'link': 'https://vladivostok.hh.ru/vacancy/74072093?from=vacancy_search_list&query=python',\n",
       "  'salary': 'от 80\\u202f000 руб.'},\n",
       " {'name': 'Разработчик Python',\n",
       "  'link': 'https://vladivostok.hh.ru/vacancy/76374632?from=vacancy_search_list&query=python',\n",
       "  'salary': None},\n",
       " {'name': 'Data Engineer (Middle)',\n",
       "  'link': 'https://vladivostok.hh.ru/vacancy/73363987?from=vacancy_search_list&query=python',\n",
       "  'salary': 'от 100\\u202f000 руб.'},\n",
       " {'name': 'Аналитик данных (Middle)',\n",
       "  'link': 'https://vladivostok.hh.ru/vacancy/73364394?from=vacancy_search_list&query=python',\n",
       "  'salary': 'от 90\\u202f000 руб.'},\n",
       " {'name': 'Аналитик данных / Data Scientist (Middle)',\n",
       "  'link': 'https://vladivostok.hh.ru/vacancy/69947221?from=vacancy_search_list&query=python',\n",
       "  'salary': '140\\u202f000 – 200\\u202f000 руб.'},\n",
       " {'name': 'Программист Python',\n",
       "  'link': 'https://vladivostok.hh.ru/vacancy/75955651?from=vacancy_search_list&query=python',\n",
       "  'salary': None},\n",
       " {'name': 'Middle+ backend python',\n",
       "  'link': 'https://vladivostok.hh.ru/vacancy/76542355?from=vacancy_search_list&query=python',\n",
       "  'salary': None},\n",
       " {'name': 'Senior QA automation (Python)',\n",
       "  'link': 'https://vladivostok.hh.ru/vacancy/76977006?from=vacancy_search_list&query=python',\n",
       "  'salary': None},\n",
       " {'name': 'Python Senior developer',\n",
       "  'link': 'https://vladivostok.hh.ru/vacancy/76267771?from=vacancy_search_list&query=python',\n",
       "  'salary': None},\n",
       " {'name': 'Python-разработчик',\n",
       "  'link': 'https://vladivostok.hh.ru/vacancy/77441262?from=vacancy_search_list&query=python',\n",
       "  'salary': None},\n",
       " {'name': 'Lead data scientist',\n",
       "  'link': 'https://vladivostok.hh.ru/vacancy/76815798?from=vacancy_search_list&query=python',\n",
       "  'salary': '300\\u202f000 – 350\\u202f000 руб.'}]"
      ]
     },
     "execution_count": 9,
     "metadata": {},
     "output_type": "execute_result"
    }
   ],
   "source": [
    "vacancies_list"
   ]
  },
  {
   "cell_type": "code",
   "execution_count": null,
   "id": "8e2fc652",
   "metadata": {},
   "outputs": [],
   "source": []
  }
 ],
 "metadata": {
  "kernelspec": {
   "display_name": "Python 3 (ipykernel)",
   "language": "python",
   "name": "python3"
  },
  "language_info": {
   "codemirror_mode": {
    "name": "ipython",
    "version": 3
   },
   "file_extension": ".py",
   "mimetype": "text/x-python",
   "name": "python",
   "nbconvert_exporter": "python",
   "pygments_lexer": "ipython3",
   "version": "3.9.13"
  }
 },
 "nbformat": 4,
 "nbformat_minor": 5
}
